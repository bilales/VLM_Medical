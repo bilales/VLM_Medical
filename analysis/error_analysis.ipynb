{
 "cells": [
  {
   "cell_type": "code",
   "execution_count": null,
   "id": "e3cf5801",
   "metadata": {
    "vscode": {
     "languageId": "plaintext"
    }
   },
   "outputs": [],
   "source": [
    "# --- Cell 1: Setup ---\n",
    "import pandas as pd\n",
    "from datasets import load_dataset\n",
    "# Assume 'evaluate.py' saves predictions to a file, or regenerate them here.\n",
    "# For simplicity, we'll regenerate a small sample.\n",
    "# ... (load model and tokenizer from evaluate.py) ..."
   ]
  },
  {
   "cell_type": "code",
   "execution_count": null,
   "id": "13d1726c",
   "metadata": {
    "vscode": {
     "languageId": "plaintext"
    }
   },
   "outputs": [],
   "source": [
    "# --- Cell 2: Generate Predictions for Analysis ---\n",
    "dataset = load_dataset(\"giskai/medvqa-2019\", split=\"test\").select(range(100)) # Analyze 100 samples\n",
    "predictions = []\n",
    "# ... (prediction loop from evaluate.py) ...\n",
    "results_df = pd.DataFrame({\n",
    "    'question': [ex['question'] for ex in dataset],\n",
    "    'ground_truth': [ex['answer'] for ex in dataset],\n",
    "    'model_output': predictions\n",
    "})"
   ]
  },
  {
   "cell_type": "code",
   "execution_count": null,
   "id": "7bcd213d",
   "metadata": {
    "vscode": {
     "languageId": "plaintext"
    }
   },
   "outputs": [],
   "source": [
    "# --- Cell 3: Display Results for Manual Categorization ---\n",
    "# Display the DataFrame in a way that's easy to read and annotate.\n",
    "# You will manually add a new column 'error_category' to this DataFrame.\n",
    "pd.set_option('display.max_colwidth', None)\n",
    "print(results_df.head())"
   ]
  },
  {
   "cell_type": "code",
   "execution_count": null,
   "id": "c33d051a",
   "metadata": {
    "vscode": {
     "languageId": "plaintext"
    }
   },
   "outputs": [],
   "source": [
    "# --- Cell 4: Save and Load Annotated Data ---\n",
    "# After manually adding an 'error_category' column in a spreadsheet program:\n",
    "# results_df.to_csv(\"error_analysis_data.csv\")\n",
    "# annotated_df = pd.read_csv(\"annotated_error_data.csv\")"
   ]
  },
  {
   "cell_type": "code",
   "execution_count": null,
   "id": "6268c3a4",
   "metadata": {
    "vscode": {
     "languageId": "plaintext"
    }
   },
   "outputs": [],
   "source": [
    "# --- Cell 5: Visualize Error Distribution ---\n",
    "# import matplotlib.pyplot as plt\n",
    "# import seaborn as sns\n",
    "#\n",
    "# error_counts = annotated_df['error_category'].value_counts()\n",
    "# sns.barplot(x=error_counts.index, y=error_counts.values)\n",
    "# plt.title(\"Model Error Distribution\")\n",
    "# plt.xlabel(\"Error Category\")\n",
    "# plt.ylabel(\"Count\")\n",
    "# plt.xticks(rotation=45)\n",
    "# plt.show()\n"
   ]
  }
 ],
 "metadata": {
  "language_info": {
   "name": "python"
  }
 },
 "nbformat": 4,
 "nbformat_minor": 5
}
